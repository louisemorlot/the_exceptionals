{
 "cells": [
  {
   "cell_type": "markdown",
   "metadata": {},
   "source": [
    "Notebook to test the functions from local.py and transformation.py"
   ]
  },
  {
   "cell_type": "code",
   "execution_count": 1,
   "metadata": {},
   "outputs": [],
   "source": [
    "\n",
    "%load_ext tensorboard\n",
    "\n",
    "import tifffile\n",
    "import numpy as np\n",
    "from pathlib import Path\n",
    "from typing import Union, List, Tuple\n",
    "import torch\n",
    "from torch.utils.data import Dataset, DataLoader\n",
    "import torch.nn as nn\n",
    "import torch.optim as optim\n",
    "from torch import no_grad, cuda\n",
    "import matplotlib.pyplot as plt\n",
    "from torch.utils.tensorboard import SummaryWriter\n",
    "import torchvision.transforms.v2 as transforms_v2\n",
    "\n",
    "from datetime import datetime\n",
    "\n",
    "import sys\n",
    "import os\n",
    "sys.path.append(\"/localscratch/devel/the_exceptionals/model/\")\n",
    "from unet import UNet\n",
    "\n",
    "sys.path.append(\"/localscratch/devel/the_exceptionals/util/\")\n",
    "from visualize import show_random_dataset_image_with_prediction\n",
    "\n",
    "sys.path.append(\"/localscratch/devel/the_exceptionals/data/\")\n",
    "from local import (\n",
    "    CellDataset,\n",
    "    show_random_dataset_image,\n",
    "    show_one_image\n",
    ")\n",
    "from train import train\n",
    "#from transformation import augment_batch, normalize, transformation"
   ]
  },
  {
   "cell_type": "code",
   "execution_count": null,
   "metadata": {},
   "outputs": [],
   "source": [
    "device = torch.device(\"cuda\") if torch.cuda.is_available() else torch.device(\"cpu\")"
   ]
  },
  {
   "cell_type": "code",
   "execution_count": null,
   "metadata": {},
   "outputs": [],
   "source": [
    "img_dir = \"/localscratch/exceptionals/train_images2D/images\"\n",
    "mask_dir = \"/localscratch/exceptionals/train_images2D/masks\"\n",
    "\n",
    "trainData = CellDataset(img_dir = img_dir, \n",
    "                       mask_dir = mask_dir)"
   ]
  },
  {
   "cell_type": "code",
   "execution_count": null,
   "metadata": {},
   "outputs": [],
   "source": [
    "print(trainData.images)"
   ]
  },
  {
   "cell_type": "code",
   "execution_count": null,
   "metadata": {},
   "outputs": [],
   "source": [
    "show_random_dataset_image(testdata)"
   ]
  },
  {
   "cell_type": "code",
   "execution_count": null,
   "metadata": {},
   "outputs": [],
   "source": [
    "train_loader=DataLoader(trainData, batch_size=5, shuffle=True, num_workers=8)"
   ]
  },
  {
   "cell_type": "code",
   "execution_count": null,
   "metadata": {},
   "outputs": [],
   "source": [
    "unet = UNet(depth=4, in_channels=1, out_channels=1, num_fmaps=2).to(device)\n",
    "loss = nn.MSELoss()\n",
    "optimizer = torch.optim.Adam(unet.parameters())\n",
    "\n",
    "for epoch in range(100):\n",
    "    train(unet, train_loader, optimizer, loss, epoch, device=device)"
   ]
  },
  {
   "cell_type": "code",
   "execution_count": null,
   "metadata": {
    "scrolled": true
   },
   "outputs": [],
   "source": [
    "img, mask, prediction = show_random_dataset_image_with_prediction(trainData, unet, device)"
   ]
  },
  {
   "cell_type": "code",
   "execution_count": 2,
   "metadata": {},
   "outputs": [
    {
     "name": "stdout",
     "output_type": "stream",
     "text": [
      "0\n"
     ]
    },
    {
     "name": "stderr",
     "output_type": "stream",
     "text": [
      "/localscratch/miniforge3/envs/exceptional/lib/python3.10/site-packages/torch/nn/modules/module.py:1511: UserWarning: Implicit dimension choice for softmax has been deprecated. Change the call to include dim=X as an argument.\n",
      "  return self._call_impl(*args, **kwargs)\n"
     ]
    },
    {
     "name": "stdout",
     "output_type": "stream",
     "text": [
      "Train Epoch: 0 [0/20 (0%)]\tLoss: 100.000000\n",
      "1\n",
      "Train Epoch: 1 [0/20 (0%)]\tLoss: 100.000000\n",
      "2\n",
      "Train Epoch: 2 [0/20 (0%)]\tLoss: 100.000000\n",
      "3\n",
      "Train Epoch: 3 [0/20 (0%)]\tLoss: 99.999100\n",
      "4\n",
      "Train Epoch: 4 [0/20 (0%)]\tLoss: 100.000000\n",
      "5\n",
      "Train Epoch: 5 [0/20 (0%)]\tLoss: 99.999344\n",
      "6\n",
      "Train Epoch: 6 [0/20 (0%)]\tLoss: 99.999496\n",
      "7\n",
      "Train Epoch: 7 [0/20 (0%)]\tLoss: 100.000000\n",
      "8\n",
      "Train Epoch: 8 [0/20 (0%)]\tLoss: 100.000000\n",
      "9\n",
      "Train Epoch: 9 [0/20 (0%)]\tLoss: 100.000000\n",
      "10\n",
      "Train Epoch: 10 [0/20 (0%)]\tLoss: 100.000000\n",
      "11\n",
      "Train Epoch: 11 [0/20 (0%)]\tLoss: 100.000000\n",
      "12\n",
      "Train Epoch: 12 [0/20 (0%)]\tLoss: 100.000000\n",
      "13\n",
      "Train Epoch: 13 [0/20 (0%)]\tLoss: 99.999496\n",
      "14\n",
      "Train Epoch: 14 [0/20 (0%)]\tLoss: 99.999504\n",
      "15\n",
      "Train Epoch: 15 [0/20 (0%)]\tLoss: 100.000000\n",
      "16\n",
      "Train Epoch: 16 [0/20 (0%)]\tLoss: 99.999321\n",
      "17\n",
      "Train Epoch: 17 [0/20 (0%)]\tLoss: 100.000000\n",
      "18\n",
      "Train Epoch: 18 [0/20 (0%)]\tLoss: 100.000000\n",
      "19\n",
      "Train Epoch: 19 [0/20 (0%)]\tLoss: 100.000000\n",
      "20\n",
      "Train Epoch: 20 [0/20 (0%)]\tLoss: 100.000000\n",
      "21\n",
      "Train Epoch: 21 [0/20 (0%)]\tLoss: 100.000000\n",
      "22\n",
      "Train Epoch: 22 [0/20 (0%)]\tLoss: 100.000000\n",
      "23\n",
      "Train Epoch: 23 [0/20 (0%)]\tLoss: 100.000000\n",
      "24\n",
      "Train Epoch: 24 [0/20 (0%)]\tLoss: 100.000000\n",
      "25\n",
      "Train Epoch: 25 [0/20 (0%)]\tLoss: 100.000000\n",
      "26\n"
     ]
    },
    {
     "ename": "KeyboardInterrupt",
     "evalue": "",
     "output_type": "error",
     "traceback": [
      "\u001b[0;31m---------------------------------------------------------------------------\u001b[0m",
      "\u001b[0;31mKeyboardInterrupt\u001b[0m                         Traceback (most recent call last)",
      "Cell \u001b[0;32mIn[2], line 4\u001b[0m\n\u001b[1;32m      1\u001b[0m img_dir \u001b[38;5;241m=\u001b[39m \u001b[38;5;124m\"\u001b[39m\u001b[38;5;124m/localscratch/exceptionals/train_images2D/images\u001b[39m\u001b[38;5;124m\"\u001b[39m\n\u001b[1;32m      2\u001b[0m mask_dir \u001b[38;5;241m=\u001b[39m \u001b[38;5;124m\"\u001b[39m\u001b[38;5;124m/localscratch/exceptionals/train_images2D/masks\u001b[39m\u001b[38;5;124m\"\u001b[39m\n\u001b[0;32m----> 4\u001b[0m \u001b[43mtrain\u001b[49m\u001b[43m(\u001b[49m\u001b[43mimg_dir\u001b[49m\u001b[43m,\u001b[49m\u001b[43m \u001b[49m\u001b[43mmask_dir\u001b[49m\u001b[43m,\u001b[49m\u001b[43m \u001b[49m\u001b[43mtransform\u001b[49m\u001b[38;5;241;43m=\u001b[39;49m\u001b[43mtransforms_v2\u001b[49m\u001b[38;5;241;43m.\u001b[39;49m\u001b[43mRandomCrop\u001b[49m\u001b[43m(\u001b[49m\u001b[38;5;241;43m256\u001b[39;49m\u001b[43m)\u001b[49m\u001b[43m)\u001b[49m\n",
      "File \u001b[0;32m/localscratch/devel/the_exceptionals/data/train.py:61\u001b[0m, in \u001b[0;36mtrain\u001b[0;34m(img_dir, mask_dir, num_epochs, batch_size, shuffle, num_workers, depth, in_channels, out_channels, num_fmaps, transform)\u001b[0m\n\u001b[1;32m     59\u001b[0m \u001b[38;5;28;01mfor\u001b[39;00m epoch \u001b[38;5;129;01min\u001b[39;00m \u001b[38;5;28mrange\u001b[39m(num_epochs):\n\u001b[1;32m     60\u001b[0m     \u001b[38;5;28mprint\u001b[39m(epoch)\n\u001b[0;32m---> 61\u001b[0m     \u001b[43mrun_training\u001b[49m\u001b[43m(\u001b[49m\u001b[43munet\u001b[49m\u001b[43m,\u001b[49m\u001b[43m \u001b[49m\u001b[43mtrain_loader\u001b[49m\u001b[43m,\u001b[49m\u001b[43m \u001b[49m\u001b[43moptimizer\u001b[49m\u001b[43m,\u001b[49m\u001b[43m \u001b[49m\u001b[43mloss\u001b[49m\u001b[43m,\u001b[49m\u001b[43m \u001b[49m\u001b[43mepoch\u001b[49m\u001b[43m,\u001b[49m\u001b[43m \u001b[49m\u001b[43mdevice\u001b[49m\u001b[38;5;241;43m=\u001b[39;49m\u001b[43mdevice\u001b[49m\u001b[43m)\u001b[49m\n\u001b[1;32m     63\u001b[0m \u001b[38;5;28;01mreturn\u001b[39;00m\n",
      "File \u001b[0;32m/localscratch/devel/the_exceptionals/data/train.py:120\u001b[0m, in \u001b[0;36mrun_training\u001b[0;34m(model, loader, optimizer, loss_function, epoch, log_interval, log_image_interval, tb_logger, device, early_stop)\u001b[0m\n\u001b[1;32m    112\u001b[0m \u001b[38;5;66;03m# log to console\u001b[39;00m\n\u001b[1;32m    113\u001b[0m \u001b[38;5;28;01mif\u001b[39;00m batch_id \u001b[38;5;241m%\u001b[39m log_interval \u001b[38;5;241m==\u001b[39m \u001b[38;5;241m0\u001b[39m:\n\u001b[1;32m    114\u001b[0m     \u001b[38;5;28mprint\u001b[39m(\n\u001b[1;32m    115\u001b[0m         \u001b[38;5;124m\"\u001b[39m\u001b[38;5;124mTrain Epoch: \u001b[39m\u001b[38;5;132;01m{}\u001b[39;00m\u001b[38;5;124m [\u001b[39m\u001b[38;5;132;01m{}\u001b[39;00m\u001b[38;5;124m/\u001b[39m\u001b[38;5;132;01m{}\u001b[39;00m\u001b[38;5;124m (\u001b[39m\u001b[38;5;132;01m{:.0f}\u001b[39;00m\u001b[38;5;124m%\u001b[39m\u001b[38;5;124m)]\u001b[39m\u001b[38;5;130;01m\\t\u001b[39;00m\u001b[38;5;124mLoss: \u001b[39m\u001b[38;5;132;01m{:.6f}\u001b[39;00m\u001b[38;5;124m\"\u001b[39m\u001b[38;5;241m.\u001b[39mformat(\n\u001b[1;32m    116\u001b[0m             epoch,\n\u001b[1;32m    117\u001b[0m             batch_id \u001b[38;5;241m*\u001b[39m \u001b[38;5;28mlen\u001b[39m(x),\n\u001b[1;32m    118\u001b[0m             \u001b[38;5;28mlen\u001b[39m(loader\u001b[38;5;241m.\u001b[39mdataset),\n\u001b[1;32m    119\u001b[0m             \u001b[38;5;241m100.0\u001b[39m \u001b[38;5;241m*\u001b[39m batch_id \u001b[38;5;241m/\u001b[39m \u001b[38;5;28mlen\u001b[39m(loader),\n\u001b[0;32m--> 120\u001b[0m             \u001b[43mloss\u001b[49m\u001b[38;5;241;43m.\u001b[39;49m\u001b[43mitem\u001b[49m\u001b[43m(\u001b[49m\u001b[43m)\u001b[49m,\n\u001b[1;32m    121\u001b[0m         )\n\u001b[1;32m    122\u001b[0m     )\n\u001b[1;32m    124\u001b[0m \u001b[38;5;66;03m# log to tensorboard\u001b[39;00m\n\u001b[1;32m    125\u001b[0m \u001b[38;5;28;01mif\u001b[39;00m tb_logger \u001b[38;5;129;01mis\u001b[39;00m \u001b[38;5;129;01mnot\u001b[39;00m \u001b[38;5;28;01mNone\u001b[39;00m:\n",
      "\u001b[0;31mKeyboardInterrupt\u001b[0m: "
     ]
    }
   ],
   "source": [
    "img_dir = \"/localscratch/exceptionals/train_images2D/images\"\n",
    "mask_dir = \"/localscratch/exceptionals/train_images2D/masks\"\n",
    "\n",
    "train(img_dir, mask_dir, transform=transforms_v2.RandomCrop(256))"
   ]
  },
  {
   "cell_type": "code",
   "execution_count": null,
   "metadata": {},
   "outputs": [],
   "source": []
  },
  {
   "cell_type": "code",
   "execution_count": null,
   "metadata": {},
   "outputs": [],
   "source": []
  },
  {
   "cell_type": "code",
   "execution_count": null,
   "metadata": {},
   "outputs": [],
   "source": []
  }
 ],
 "metadata": {
  "kernelspec": {
   "display_name": "Python 3 (ipykernel)",
   "language": "python",
   "name": "python3"
  },
  "language_info": {
   "codemirror_mode": {
    "name": "ipython",
    "version": 3
   },
   "file_extension": ".py",
   "mimetype": "text/x-python",
   "name": "python",
   "nbconvert_exporter": "python",
   "pygments_lexer": "ipython3",
   "version": "3.10.14"
  }
 },
 "nbformat": 4,
 "nbformat_minor": 4
}
