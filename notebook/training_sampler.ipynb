{
 "cells": [
  {
   "cell_type": "markdown",
   "id": "16dbe813-e326-4245-833d-a64853c717af",
   "metadata": {},
   "source": [
    "Notebook to train a model with optimized normalization and data sampling"
   ]
  },
  {
   "cell_type": "code",
   "execution_count": 2,
   "id": "0c08b95d-a917-4ff6-8034-f47dd9d58e40",
   "metadata": {},
   "outputs": [],
   "source": [
    "%load_ext tensorboard\n",
    "\n",
    "import tifffile\n",
    "import numpy as np\n",
    "from pathlib import Path\n",
    "from typing import Union, List, Tuple\n",
    "import torch\n",
    "from torch.utils.data import Dataset, DataLoader\n",
    "import torch.nn as nn\n",
    "import torch.optim as optim\n",
    "from torch import no_grad, cuda\n",
    "import matplotlib.pyplot as plt\n",
    "from torch.utils.tensorboard import SummaryWriter\n",
    "import torchvision.transforms.v2 as transforms_v2\n",
    "\n",
    "from datetime import datetime\n",
    "\n",
    "import sys\n",
    "import os\n",
    "sys.path.append(\"/localscratch/project/the_exceptionals/model/\")\n",
    "from unet import UNet\n",
    "\n",
    "sys.path.append(\"/localscratch/project/the_exceptionals/util/\")\n",
    "from visualize import show_random_dataset_image_with_prediction\n",
    "\n",
    "sys.path.append(\"/localscratch/project/the_exceptionals/data/\")\n",
    "import local\n",
    "from sampler import show_random_sampler_image, Sampler\n",
    "\n",
    "from train import train"
   ]
  },
  {
   "cell_type": "code",
   "execution_count": 3,
   "id": "11316e6b-3fd6-4e6a-9e1d-3e13b3de7286",
   "metadata": {},
   "outputs": [],
   "source": [
    "device = torch.device(\"cuda\") if torch.cuda.is_available() else torch.device(\"cpu\")"
   ]
  },
  {
   "cell_type": "code",
   "execution_count": null,
   "id": "b13fac59-c468-431e-9010-6af9464d96b2",
   "metadata": {},
   "outputs": [],
   "source": []
  },
  {
   "cell_type": "code",
   "execution_count": 4,
   "id": "b60e5938-76e1-4e1d-95ee-b6c16a0ba3ad",
   "metadata": {
    "scrolled": true
   },
   "outputs": [
    {
     "name": "stdout",
     "output_type": "stream",
     "text": [
      "epoch: 0\n",
      "Train Epoch: 0 [0/200 (0%)]\tLoss: 0.957199\n",
      "epoch: 1\n",
      "Train Epoch: 1 [0/200 (0%)]\tLoss: 0.944440\n",
      "epoch: 2\n",
      "Train Epoch: 2 [0/200 (0%)]\tLoss: 0.935052\n",
      "epoch: 3\n",
      "Train Epoch: 3 [0/200 (0%)]\tLoss: 0.926826\n",
      "epoch: 4\n",
      "Train Epoch: 4 [0/200 (0%)]\tLoss: 0.907741\n",
      "epoch: 5\n",
      "Train Epoch: 5 [0/200 (0%)]\tLoss: 0.895562\n",
      "epoch: 6\n",
      "Train Epoch: 6 [0/200 (0%)]\tLoss: 0.886091\n",
      "epoch: 7\n",
      "Train Epoch: 7 [0/200 (0%)]\tLoss: 0.866633\n",
      "epoch: 8\n",
      "Train Epoch: 8 [0/200 (0%)]\tLoss: 0.830714\n",
      "epoch: 9\n",
      "Train Epoch: 9 [0/200 (0%)]\tLoss: 0.817395\n",
      "epoch: 10\n",
      "Train Epoch: 10 [0/200 (0%)]\tLoss: 0.784808\n",
      "epoch: 11\n",
      "Train Epoch: 11 [0/200 (0%)]\tLoss: 0.762292\n",
      "epoch: 12\n",
      "Train Epoch: 12 [0/200 (0%)]\tLoss: 0.745425\n",
      "epoch: 13\n",
      "Train Epoch: 13 [0/200 (0%)]\tLoss: 0.724814\n",
      "epoch: 14\n",
      "Train Epoch: 14 [0/200 (0%)]\tLoss: 0.719780\n"
     ]
    }
   ],
   "source": [
    "img_dir = \"/localscratch/project/data2d/norm_img/train/images\"\n",
    "mask_dir = \"/localscratch/project/data2d/train_images2D/masks\"\n",
    "\n",
    "train(img_dir, mask_dir, num_epochs=15, batch_size=5, shuffle=True, num_workers=8,\n",
    "          depth=3, in_channels=1, out_channels=1, num_fmaps=64, lr = 0.000001)"
   ]
  },
  {
   "cell_type": "code",
   "execution_count": null,
   "id": "81120979-ea55-4522-9dc2-f05eea4f9309",
   "metadata": {},
   "outputs": [],
   "source": [
    "import matplotlib.pyplot as plt\n",
    "\n",
    "plt.figure()\n",
    "plt.imshow(np.squeeze(np.load(\"/localscratch/runs/Unet/100_prediction.npy\"))[0])\n",
    "plt.colorbar()\n",
    "plt.show()\n",
    "\n",
    "plt.figure()\n",
    "plt.imshow(np.squeeze(np.load(\"/localscratch/runs/Unet/100_image.npy\"))[0])\n",
    "plt.colorbar()\n",
    "plt.show()"
   ]
  },
  {
   "cell_type": "code",
   "execution_count": null,
   "id": "47fc7ae2-5647-4b9f-a967-657676008f98",
   "metadata": {},
   "outputs": [],
   "source": [
    "np.squeeze(np.load(\"/localscratch/runs/Unet/1080_prediction.npy\"))"
   ]
  },
  {
   "cell_type": "code",
   "execution_count": null,
   "id": "7a7456e1-8f95-4db6-a44d-fb64da055dd0",
   "metadata": {},
   "outputs": [],
   "source": []
  },
  {
   "cell_type": "code",
   "execution_count": null,
   "id": "3ddb16ff-9ea5-457f-a2da-2656e7f1cbd6",
   "metadata": {},
   "outputs": [],
   "source": [
    "trainData = local.CellDataset(img_dir = img_dir,\n",
    "                            mask_dir = mask_dir\n",
    "                           )"
   ]
  },
  {
   "cell_type": "code",
   "execution_count": null,
   "id": "63811c5e-5cd7-4da6-b627-65725d90d22f",
   "metadata": {},
   "outputs": [],
   "source": [
    "loader = DataLoader(trainData, batch_size = 5, num_workers = 8, shuffle = True)"
   ]
  },
  {
   "cell_type": "code",
   "execution_count": null,
   "id": "d71cfc35-df35-4b43-ab36-78ec665b3fab",
   "metadata": {},
   "outputs": [],
   "source": [
    "for batch_id, (x, y) in enumerate(loader):\n",
    "        # move input and target to the active device (either cpu or gpu)\n",
    "        x, y = x.to(device), y.to(device)\n",
    "        print(x.shape)\n",
    "        print(y.shape)"
   ]
  },
  {
   "cell_type": "code",
   "execution_count": null,
   "id": "58c79714-abf7-4b6d-889b-4c150cd93732",
   "metadata": {},
   "outputs": [],
   "source": []
  }
 ],
 "metadata": {
  "kernelspec": {
   "display_name": "Python 3 (ipykernel)",
   "language": "python",
   "name": "python3"
  },
  "language_info": {
   "codemirror_mode": {
    "name": "ipython",
    "version": 3
   },
   "file_extension": ".py",
   "mimetype": "text/x-python",
   "name": "python",
   "nbconvert_exporter": "python",
   "pygments_lexer": "ipython3",
   "version": "3.10.14"
  }
 },
 "nbformat": 4,
 "nbformat_minor": 5
}
