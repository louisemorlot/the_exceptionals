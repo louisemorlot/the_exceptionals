{
 "cells": [
  {
   "cell_type": "markdown",
   "metadata": {},
   "source": [
    "Normalization of data"
   ]
  },
  {
   "cell_type": "markdown",
   "metadata": {},
   "source": []
  },
  {
   "cell_type": "code",
   "execution_count": 1,
   "metadata": {},
   "outputs": [],
   "source": [
    "import os\n",
    "import numpy as np\n",
    "from pathlib import Path\n",
    "import tifffile\n",
    "import PIL"
   ]
  },
  {
   "cell_type": "code",
   "execution_count": 2,
   "metadata": {},
   "outputs": [],
   "source": [
    "img_dir = \"/localscratch/project/data2d/train_images2D/images\"\n",
    "val_dir = \"/localscratch/project/data2d/val_images2D/images\"\n",
    "test_dir = \"/localscratch/project/data2d/exceptionals/test_images2D/images\"\n",
    "mask_img_dir = \"/localscratch/project/data2d/train_images2D/masks\"\n",
    "mask_val_dir = \"/localscratch/project/data2d/val_images2D/masks\"\n",
    "mask_test_dir = \"/localscratch/project/data2d/exceptionals/test_images2D/masks\""
   ]
  },
  {
   "cell_type": "code",
   "execution_count": 3,
   "metadata": {},
   "outputs": [],
   "source": [
    "image_files = list(Path(img_dir).rglob(\"*.tif\"))\n",
    "val_files = list(Path(val_dir).rglob(\"*.tif\"))\n",
    "test_files = list(Path(test_dir).rglob(\"*.tif\"))\n",
    "mask_files = list(Path(mask_img_dir).rglob(\"*.tif\"))\n",
    "mask_val_files = list(Path(mask_val_dir).rglob(\"*.tif\"))\n",
    "mask_test_files = list(Path(mask_test_dir).rglob(\"*.tif\"))"
   ]
  },
  {
   "cell_type": "code",
   "execution_count": 4,
   "metadata": {},
   "outputs": [],
   "source": [
    "images_array = np.stack([tifffile.imread(str(f)) for f in image_files])\n",
    "val_array = np.stack([tifffile.imread(str(f)) for f in val_files])\n",
    "test_array = np.stack([tifffile.imread(str(f)) for f in test_files])\n",
    "mask_array = np.stack([tifffile.imread(str(f)) for f in mask_files])\n",
    "mask_val_array = np.stack([tifffile.imread(str(f)) for f in mask_val_files])\n",
    "mask_test_array = np.stack([tifffile.imread(str(f)) for f in mask_test_files])"
   ]
  },
  {
   "cell_type": "code",
   "execution_count": 10,
   "metadata": {},
   "outputs": [
    {
     "data": {
      "text/plain": [
       "PosixPath('/localscratch/project/data2d/train_images2D/images/MAX_C4-16122021_Label44_CD16_367L_w1_closetolabel_100x_0.21_02.vsi - 405, 488, 561, 640.tif.scaled.tif')"
      ]
     },
     "execution_count": 10,
     "metadata": {},
     "output_type": "execute_result"
    }
   ],
   "source": [
    "image_files[0]"
   ]
  },
  {
   "cell_type": "code",
   "execution_count": 6,
   "metadata": {},
   "outputs": [],
   "source": [
    "def normalize(img, data_type = float):\n",
    "    img_min = np.min(img)\n",
    "    img_max = np.max(img)\n",
    "\n",
    "    new_min = 0\n",
    "    if data_type == np.uint8:\n",
    "        new_max = 2**8-1\n",
    "    elif data_type == np.uint16:\n",
    "        new_max = 2**16-1\n",
    "    elif data_type == np.float:\n",
    "        new_max = 1\n",
    "        \n",
    "    img_norm = (img - img_min) * ((new_max - new_min) / (img_max - img_min)) + new_min\n",
    "    img_norm = img_norm.astype(data_type)\n",
    "    return img_norm"
   ]
  },
  {
   "cell_type": "code",
   "execution_count": 13,
   "metadata": {},
   "outputs": [
    {
     "name": "stderr",
     "output_type": "stream",
     "text": [
      "/tmp/ipykernel_50431/1755323669.py:3: DeprecationWarning: <tifffile.imsave> is deprecated. Use tifffile.imwrite\n",
      "  tifffile.imsave(f\"/localscratch/project/data2d/norm_img/train/images/{image_files[i].name}\", img_norm)\n",
      "/tmp/ipykernel_50431/1755323669.py:7: DeprecationWarning: <tifffile.imsave> is deprecated. Use tifffile.imwrite\n",
      "  tifffile.imsave(f\"/localscratch/project/data2d/norm_img/val/images/{val_files[i].name}\", val_norm)\n",
      "/tmp/ipykernel_50431/1755323669.py:11: DeprecationWarning: <tifffile.imsave> is deprecated. Use tifffile.imwrite\n",
      "  tifffile.imsave(f\"/localscratch/project/data2d/norm_img/test/images/{test_files[i].name}\", test_norm)\n"
     ]
    }
   ],
   "source": [
    "for i, img in enumerate(images_array): #TODO load images and masks at the same and name them together\n",
    "    img_norm = normalize(img, data_type = np.uint16)\n",
    "    tifffile.imsave(f\"/localscratch/project/data2d/norm_img/train/images/{image_files[i].name}\", img_norm)\n",
    "\n",
    "for i, img in enumerate(val_array):\n",
    "    val_norm = normalize(img, data_type = np.uint16)\n",
    "    tifffile.imsave(f\"/localscratch/project/data2d/norm_img/val/images/{val_files[i].name}\", val_norm)\n",
    "               \n",
    "for i, img in enumerate(test_array):\n",
    "    test_norm = normalize(img, data_type = np.uint16)\n",
    "    tifffile.imsave(f\"/localscratch/project/data2d/norm_img/test/images/{test_files[i].name}\", test_norm)"
   ]
  },
  {
   "cell_type": "code",
   "execution_count": 14,
   "metadata": {},
   "outputs": [],
   "source": [
    "img = tifffile.imread(\"/localscratch/project/data2d/norm_img/test/images/MAX_C3-26012022_Label48_t2_100x_0.21_03_POS_current.vsi - 405, 488, 640.tif\")"
   ]
  },
  {
   "cell_type": "code",
   "execution_count": 15,
   "metadata": {},
   "outputs": [
    {
     "data": {
      "text/plain": [
       "65534"
      ]
     },
     "execution_count": 15,
     "metadata": {},
     "output_type": "execute_result"
    }
   ],
   "source": [
    "np.max(img)"
   ]
  },
  {
   "cell_type": "code",
   "execution_count": 16,
   "metadata": {},
   "outputs": [
    {
     "data": {
      "text/plain": [
       "0"
      ]
     },
     "execution_count": 16,
     "metadata": {},
     "output_type": "execute_result"
    }
   ],
   "source": [
    "np.min(img)"
   ]
  },
  {
   "cell_type": "code",
   "execution_count": 17,
   "metadata": {},
   "outputs": [
    {
     "data": {
      "text/plain": [
       "(20, 2304, 2304)"
      ]
     },
     "execution_count": 17,
     "metadata": {},
     "output_type": "execute_result"
    }
   ],
   "source": [
    "images_array.shape"
   ]
  },
  {
   "cell_type": "code",
   "execution_count": null,
   "metadata": {},
   "outputs": [],
   "source": []
  }
 ],
 "metadata": {
  "kernelspec": {
   "display_name": "Python 3 (ipykernel)",
   "language": "python",
   "name": "python3"
  },
  "language_info": {
   "codemirror_mode": {
    "name": "ipython",
    "version": 3
   },
   "file_extension": ".py",
   "mimetype": "text/x-python",
   "name": "python",
   "nbconvert_exporter": "python",
   "pygments_lexer": "ipython3",
   "version": "3.10.14"
  }
 },
 "nbformat": 4,
 "nbformat_minor": 4
}
