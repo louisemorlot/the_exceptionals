{
 "cells": [
  {
   "cell_type": "markdown",
   "metadata": {},
   "source": [
    "Normalization of data"
   ]
  },
  {
   "cell_type": "markdown",
   "metadata": {},
   "source": []
  },
  {
   "cell_type": "code",
   "execution_count": 36,
   "metadata": {},
   "outputs": [],
   "source": [
    "import os\n",
    "import numpy as np\n",
    "from pathlib import Path\n",
    "import tifffile\n",
    "import PIL"
   ]
  },
  {
   "cell_type": "code",
   "execution_count": 27,
   "metadata": {},
   "outputs": [],
   "source": [
    "img_dir = \"/localscratch/project/data2d/train_images2D/images\"\n",
    "val_dir = \"/localscratch/project/data2d/val_images2D/images\"\n",
    "test_dir = \"/localscratch/project/data2d/exceptionals/test_images2D/images\""
   ]
  },
  {
   "cell_type": "code",
   "execution_count": 28,
   "metadata": {},
   "outputs": [],
   "source": [
    "image_files = list(Path(img_dir).rglob(\"*.tif\"))\n",
    "val_files = list(Path(val_dir).rglob(\"*.tif\"))\n",
    "test_files = list(Path(test_dir).rglob(\"*.tif\"))"
   ]
  },
  {
   "cell_type": "code",
   "execution_count": 29,
   "metadata": {},
   "outputs": [],
   "source": [
    "images_array = np.stack([tifffile.imread(str(f)) for f in image_files])\n",
    "val_array = np.stack([tifffile.imread(str(f)) for f in val_files])\n",
    "test_array = np.stack([tifffile.imread(str(f)) for f in test_files])"
   ]
  },
  {
   "cell_type": "code",
   "execution_count": 30,
   "metadata": {},
   "outputs": [
    {
     "data": {
      "text/plain": [
       "26897"
      ]
     },
     "execution_count": 30,
     "metadata": {},
     "output_type": "execute_result"
    }
   ],
   "source": [
    "images_array.max()"
   ]
  },
  {
   "cell_type": "code",
   "execution_count": 41,
   "metadata": {},
   "outputs": [],
   "source": [
    "def normalize(img, data_type = float):\n",
    "    img_min = np.min(img)\n",
    "    img_max = np.max(img)\n",
    "\n",
    "    new_min = 0\n",
    "    if data_type == np.uint8:\n",
    "        new_max = 2**8-1\n",
    "    elif data_type == np.uint16:\n",
    "        new_max = 2**16-1\n",
    "    elif data_type == np.float:\n",
    "        new_max = 1\n",
    "        \n",
    "    img_norm = (img - img_min) * ((new_max - new_min) / (img_max - img_min)) + new_min\n",
    "    img_norm = img_norm.astype(data_type)\n",
    "    return img_norm"
   ]
  },
  {
   "cell_type": "code",
   "execution_count": 43,
   "metadata": {},
   "outputs": [
    {
     "name": "stderr",
     "output_type": "stream",
     "text": [
      "/tmp/ipykernel_45312/3440048721.py:3: DeprecationWarning: <tifffile.imsave> is deprecated. Use tifffile.imwrite\n",
      "  tifffile.imsave(f\"/localscratch/project/data2d/norm_img/train/images/img_{i}.tif\", img_norm)\n",
      "/tmp/ipykernel_45312/3440048721.py:7: DeprecationWarning: <tifffile.imsave> is deprecated. Use tifffile.imwrite\n",
      "  tifffile.imsave(f\"/localscratch/project/data2d/norm_img/val/images/img_{i}.tif\", val_norm)\n",
      "/tmp/ipykernel_45312/3440048721.py:11: DeprecationWarning: <tifffile.imsave> is deprecated. Use tifffile.imwrite\n",
      "  tifffile.imsave(f\"/localscratch/project/data2d/norm_img/test/images/img_{i}.tif\", test_norm)\n"
     ]
    }
   ],
   "source": [
    "for i, img in enumerate(images_array):\n",
    "    img_norm = normalize(img, data_type = np.uint16)\n",
    "    tifffile.imsave(f\"/localscratch/project/data2d/norm_img/train/images/img_{i}.tif\", img_norm)\n",
    "\n",
    "for i, img in enumerate(val_array):\n",
    "    val_norm = normalize(img, data_type = np.uint16)\n",
    "    tifffile.imsave(f\"/localscratch/project/data2d/norm_img/val/images/img_{i}.tif\", val_norm)\n",
    "               \n",
    "for i, img in enumerate(val_array):\n",
    "    test_norm = normalize(img, data_type = np.uint16)\n",
    "    tifffile.imsave(f\"/localscratch/project/data2d/norm_img/test/images/img_{i}.tif\", test_norm)"
   ]
  },
  {
   "cell_type": "code",
   "execution_count": 50,
   "metadata": {},
   "outputs": [],
   "source": [
    "img = tifffile.imread(\"/localscratch/project/data2d/norm_img/test/images/img_2.tif\")"
   ]
  },
  {
   "cell_type": "code",
   "execution_count": 51,
   "metadata": {},
   "outputs": [
    {
     "data": {
      "text/plain": [
       "65535"
      ]
     },
     "execution_count": 51,
     "metadata": {},
     "output_type": "execute_result"
    }
   ],
   "source": [
    "np.max(img)"
   ]
  },
  {
   "cell_type": "code",
   "execution_count": 52,
   "metadata": {},
   "outputs": [
    {
     "data": {
      "text/plain": [
       "0"
      ]
     },
     "execution_count": 52,
     "metadata": {},
     "output_type": "execute_result"
    }
   ],
   "source": [
    "np.min(img)"
   ]
  },
  {
   "cell_type": "code",
   "execution_count": 53,
   "metadata": {},
   "outputs": [
    {
     "data": {
      "text/plain": [
       "(20, 2304, 2304)"
      ]
     },
     "execution_count": 53,
     "metadata": {},
     "output_type": "execute_result"
    }
   ],
   "source": [
    "images_array.shape"
   ]
  },
  {
   "cell_type": "code",
   "execution_count": null,
   "metadata": {},
   "outputs": [],
   "source": []
  }
 ],
 "metadata": {
  "kernelspec": {
   "display_name": "Python 3 (ipykernel)",
   "language": "python",
   "name": "python3"
  },
  "language_info": {
   "codemirror_mode": {
    "name": "ipython",
    "version": 3
   },
   "file_extension": ".py",
   "mimetype": "text/x-python",
   "name": "python",
   "nbconvert_exporter": "python",
   "pygments_lexer": "ipython3",
   "version": "3.10.14"
  }
 },
 "nbformat": 4,
 "nbformat_minor": 4
}
